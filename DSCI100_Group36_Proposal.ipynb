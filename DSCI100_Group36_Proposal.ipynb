{
 "cells": [
  {
   "cell_type": "markdown",
   "id": "b3c3c672-470a-42a8-96c8-89512221c414",
   "metadata": {},
   "source": [
    "Title"
   ]
  },
  {
   "cell_type": "markdown",
   "id": "720d0d1b-e693-4120-8297-e209c4f513e7",
   "metadata": {},
   "source": [
    "Introduction:\n",
    "<br>• Provide some relevant background information on the topic so that someone unfamiliar with it will be prepared to understand the rest of your proposal\n",
    "<br>• Clearly state the question you will try to answer with your project\n",
    "<br>• Identify and describe the dataset that will be used to answer the question"
   ]
  },
  {
   "cell_type": "markdown",
   "id": "a3fc4771-7fc5-4b27-9e2b-27d3aee53c81",
   "metadata": {},
   "source": [
    "Preliminary exploratory data analysis:\n",
    "<br>• Demonstrate that the dataset can be read from the web into R \n",
    "<br>• Clean and wrangle your data into a tidy format\n",
    "<br>• Using only training data, summarize the data in at least one table (this is exploratory data analysis). An example of a useful table could be one that reports the number of observations in each class, the means of the predictor variables you plan to use in your analysis and how many rows have missing data. \n",
    "<br>• Using only training data, visualize the data with at least one plot relevant to the analysis you plan to do (this is exploratory data analysis). An example of a useful visualization could be one that compares the distributions of each of the predictor variables you plan to use in your analysis."
   ]
  },
  {
   "cell_type": "markdown",
   "id": "51644709-b6d4-403b-a818-f34b89d3f4f2",
   "metadata": {},
   "source": [
    "Methods:\n",
    "<br>• Explain how you will conduct either your data analysis and which variables/columns you will use. Note - you do not need to use all variables/columns that exist in the raw data set. In fact, that's often not a good idea. For each variable think: is this a useful variable for prediction?\n",
    "<br>• Describe at least one way that you will visualize the results"
   ]
  },
  {
   "cell_type": "markdown",
   "id": "f7142c39-637a-464d-b11a-9e18b210c791",
   "metadata": {},
   "source": [
    "Expected outcomes and significance:\n",
    "<br>• What do you expect to find?\n",
    "<br>• What impact could such findings have?\n",
    "<br>• What future questions could this lead to?"
   ]
  }
 ],
 "metadata": {
  "kernelspec": {
   "display_name": "R",
   "language": "R",
   "name": "ir"
  },
  "language_info": {
   "codemirror_mode": "r",
   "file_extension": ".r",
   "mimetype": "text/x-r-source",
   "name": "R",
   "pygments_lexer": "r",
   "version": "4.2.2"
  }
 },
 "nbformat": 4,
 "nbformat_minor": 5
}
