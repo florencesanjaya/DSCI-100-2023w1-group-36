{
 "cells": [
  {
   "cell_type": "markdown",
   "id": "a263c425-a7ae-44b1-ada5-7cbc881341b7",
   "metadata": {
    "tags": []
   },
   "source": [
    "# Predicting Diabetes Status (max. 2000 words)"
   ]
  },
  {
   "cell_type": "markdown",
   "id": "86d2d502-a82f-42c7-97a4-8c0d8e913217",
   "metadata": {},
   "source": [
    "## Introduction"
   ]
  },
  {
   "cell_type": "markdown",
   "id": "92a72129-68cf-4e3b-835e-c93ab21d968e",
   "metadata": {
    "tags": []
   },
   "source": [
    "Diabetes is a chronic metabolic disease where the body cannot produce or use insulin, a hormone that allows sugar to be used for energy. The effects of untreated diabetes can be damaging to various organs, and approximately [422 million](https://www.who.int/health-topics/diabetes#tab=tab_1) people globally have diabetes. It is therefore imperative that diabetes be diagnosed as early as possible to minimise potential complications.\n",
    "\n",
    "This project aims to create a feasible model for predicting diabetes. Literature has found that [Hba1c levels](https://www.ncbi.nlm.nih.gov/pmc/articles/PMC4933534/), [age](https://www.ncbi.nlm.nih.gov/pmc/articles/PMC9843502/#:~:text=Advanced%20age%20is%20a%20major%20risk%20factor%20for%20diabetes%20and%20prediabetes.&text=Therefore%2C%20the%20elderly%20has%20a,%2C%20retinal%2C%20and%20renal%20systems.), [hypertension and heart disease statuses](https://www.ncbi.nlm.nih.gov/pmc/articles/PMC5953551/) can be related to diabetes, and so the question to be answered is:  can diabetes status be predicted from  these 4 variables?\n",
    "\n",
    "To answer the overarching question, the dataset that will be used in this project is the [Diabetes prediction dataset](https://www.kaggle.com/datasets/iammustafatz/diabetes-prediction-dataset) created by Mohammed Mustafa on kaggle. It contains patient records organised into 8 variables (age, gender, body mass index (BMI), hypertension, heart disease, smoking history, HbA1c level,  and blood glucose level) and a predicted outcome (diabetes status)."
   ]
  },
  {
   "cell_type": "markdown",
   "id": "4ea27662-65c0-459a-b4dd-e56455b7133e",
   "metadata": {},
   "source": [
    "## Methods and Results"
   ]
  },
  {
   "cell_type": "markdown",
   "id": "d513c62d-5de7-49fd-9a26-ad9b270ceff2",
   "metadata": {},
   "source": [
    "### Methods\n",
    "1. Data Cleaning: Before any analysis is conducted, the dataset will be cleaned to handle missing values, outliers, or any inconsistencies.\n",
    "2. Variable Selection: Not all variables/columns in a dataset may be relevant or useful for prediction. We will primarily focus on variables such as Hba1c levels, age, hypertension and heart disease statuses. These have been shown in various studies to be influential factors in the onset of diabetes. However, other variables may be included or excluded based on their correlation with the predicted outcome (diabetes status) and their importance in the model.\n",
    "3. Data Splitting: The dataset will be divided into training and testing sets. The training set will be used to train our predictive model, while the testing set will be used to evaluate the model's performance.\n",
    "4. Model Building and Evaluation: Different models will be considered, including logistic regression, decision trees, and random forests. Each model's performance will be assessed using appropriate metrics, such as accuracy, recall, precision.\n",
    "5. Results Visualization: The ggplot2 package will be central for this. Histograms (geom_histogram()), scatter plots (geom_point()) will be plotted to visually inspect variable distributions and relationships. Feature importance, when relevant, can be visualised using a bar graph (geom_bar())."
   ]
  },
  {
   "cell_type": "markdown",
   "id": "e8ee7f6f-5347-4131-945f-e661d6769685",
   "metadata": {},
   "source": [
    "### Results"
   ]
  },
  {
   "cell_type": "code",
   "execution_count": null,
   "id": "10aacab7-63e0-4b8e-b2f0-5b87221b69b1",
   "metadata": {},
   "outputs": [],
   "source": []
  },
  {
   "cell_type": "markdown",
   "id": "a2d05d75-a406-49a8-9c6d-bdb53ae8d5da",
   "metadata": {},
   "source": [
    "## Discussion"
   ]
  },
  {
   "cell_type": "markdown",
   "id": "1a8e53df-0ee6-447a-8b73-10213f52c905",
   "metadata": {},
   "source": [
    "*(insert summary of findings)*\n",
    "\n",
    "*(insert discussion of whether findings conform to expectations)*\n",
    "\n",
    "Utilising machine learning to comb through multitudes of patient data can accelerate crucial decision-making, especially in clinical settings where healthcare providers must consider diabetic potential in some patients’ treatments. We believe that our findings can provide a step closer to accomplishing this by confirming the correlational relationship between the 4 variables and diabetes.\n",
    "\n",
    "Future questions to consider:\n",
    "1. Can we differentiate between type 1 and type 2 diabetes with our predictors?\n",
    "2. Would a bigger patient dataset alter the accuracy of our predictors?"
   ]
  },
  {
   "cell_type": "markdown",
   "id": "36885c0a-2284-425f-b84a-0952a11c8180",
   "metadata": {},
   "source": [
    "## References"
   ]
  },
  {
   "cell_type": "markdown",
   "id": "1f6a2558-b331-4899-9a30-40bbbe0eb15e",
   "metadata": {},
   "source": [
    "**(currently using APA 7th ed.)**\n",
    "\n",
    "Mustafa, M. (2023). *Diabetes prediction dataset* [Data set]. Kaggle. https://www.kaggle.com/datasets/iammustafatz/diabetes-prediction-dataset\n",
    "\n",
    "Petrie, J. R., Guzik, T. J., & Touyz, R. M. (2018). Diabetes, Hypertension, and Cardiovascular Disease: Clinical Insights and Vascular Mechanisms. The Canadian journal of cardiology, 34(5), 575–584. https://doi.org/10.1016/j.cjca.2017.12.005\n",
    "\n",
    "Sherwani, S. I., Khan, H. A., Ekhzaimy, A., Masood, A., Sakharkar, M. K. (2016). Significance of HbA1c Test in Diagnosis and Prognosis of Diabetic Patients. *Biomarker Insights, 11*, 95-104. https://doi.org/10.4137%2FBMI.S38440\n",
    "\n",
    "Yan, Z., Cai, M., Han, X., Chen, Q., & Lu, H. (2023). The Interaction Between Age and Risk Factors for Diabetes and Prediabetes: A Community-Based Cross-Sectional Study. *Diabetes, metabolic syndrome and obesity : targets and therapy, 16*, 85–93. https://doi.org/10.2147/DMSO.S390857"
   ]
  }
 ],
 "metadata": {
  "kernelspec": {
   "display_name": "R",
   "language": "R",
   "name": "ir"
  },
  "language_info": {
   "codemirror_mode": "r",
   "file_extension": ".r",
   "mimetype": "text/x-r-source",
   "name": "R",
   "pygments_lexer": "r",
   "version": "4.2.2"
  }
 },
 "nbformat": 4,
 "nbformat_minor": 5
}
