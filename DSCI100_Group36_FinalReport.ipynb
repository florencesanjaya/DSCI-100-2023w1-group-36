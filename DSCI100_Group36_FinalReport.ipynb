{
 "cells": [
  {
   "cell_type": "markdown",
   "id": "a263c425-a7ae-44b1-ada5-7cbc881341b7",
   "metadata": {
    "tags": []
   },
   "source": [
    "# Predicting Diabetes Status (max. 2000 words)"
   ]
  },
  {
   "cell_type": "markdown",
   "id": "86d2d502-a82f-42c7-97a4-8c0d8e913217",
   "metadata": {},
   "source": [
    "## Introduction"
   ]
  },
  {
   "cell_type": "markdown",
   "id": "92a72129-68cf-4e3b-835e-c93ab21d968e",
   "metadata": {
    "tags": []
   },
   "source": [
    "Diabetes is a chronic metabolic disease where the body cannot produce or use insulin, a hormone that allows sugar to be used for energy. The effects of untreated diabetes can be damaging to various organs, and approximately [422 million](https://www.who.int/health-topics/diabetes#tab=tab_1) people globally have diabetes. It is therefore imperative that diabetes be diagnosed as early as possible to minimise potential complications.\n",
    "\n",
    "This project aims to create a feasible model for predicting diabetes. Literature has found that [Hba1c levels](https://www.ncbi.nlm.nih.gov/pmc/articles/PMC4933534/), [age](https://www.ncbi.nlm.nih.gov/pmc/articles/PMC9843502/#:~:text=Advanced%20age%20is%20a%20major%20risk%20factor%20for%20diabetes%20and%20prediabetes.&text=Therefore%2C%20the%20elderly%20has%20a,%2C%20retinal%2C%20and%20renal%20systems.), [hypertension and heart disease statuses](https://www.ncbi.nlm.nih.gov/pmc/articles/PMC5953551/) can be related to diabetes, and so the question to be answered is:  can diabetes status be predicted from  these 4 variables?\n",
    "\n",
    "To answer the overarching question, the dataset that will be used in this project is the [Diabetes prediction dataset](https://www.kaggle.com/datasets/iammustafatz/diabetes-prediction-dataset) created by Mohammed Mustafa on kaggle. It contains patient records organised into 8 variables (age, gender, body mass index (BMI), hypertension, heart disease, smoking history, HbA1c level,  and blood glucose level) and a predicted outcome (diabetes status)."
   ]
  },
  {
   "cell_type": "markdown",
   "id": "4ea27662-65c0-459a-b4dd-e56455b7133e",
   "metadata": {},
   "source": [
    "## Methods and Results"
   ]
  },
  {
   "cell_type": "markdown",
   "id": "d513c62d-5de7-49fd-9a26-ad9b270ceff2",
   "metadata": {},
   "source": [
    "### Methods\n",
    "1. Data Cleaning: Before any analysis is conducted, the dataset will be cleaned to handle missing values, outliers, or any inconsistencies.\n",
    "2. Variable Selection: Not all variables/columns in a dataset may be relevant or useful for prediction. We will primarily focus on variables such as Hba1c levels, age, hypertension and heart disease statuses. These have been shown in various studies to be influential factors in the onset of diabetes. However, other variables may be included or excluded based on their correlation with the predicted outcome (diabetes status) and their importance in the model.\n",
    "3. Data Splitting: The dataset will be divided into training and testing sets. The training set will be used to train our predictive model, while the testing set will be used to evaluate the model's performance.\n",
    "4. Model Building and Evaluation: Different models will be considered, including logistic regression, decision trees, and random forests. Each model's performance will be assessed using appropriate metrics, such as accuracy, recall, precision.\n",
    "5. Results Visualization: The ggplot2 package will be central for this. Histograms (geom_histogram()), scatter plots (geom_point()) will be plotted to visually inspect variable distributions and relationships. Feature importance, when relevant, can be visualised using a bar graph (geom_bar()).\n",
    "\n",
    "*Proposed results visualization (fs):*\n",
    "- we have to compare the majority classifier & our K-nearest neighbors classifier\n",
    "- use metrics() & confusion matrix on both to do this (present both as tables first) -> review chapter 6\n",
    "    <br>note: draw the comparison after K-nearest neighbors classifier is tuned & cross-validated. Also add in the line graph for accuracy estimate\n",
    "              vs. K value (set K to 0-100?)\n",
    "- put values obtained in the above point into a bar graph as visualization(?)"
   ]
  },
  {
   "cell_type": "markdown",
   "id": "e8ee7f6f-5347-4131-945f-e661d6769685",
   "metadata": {},
   "source": [
    "### Results"
   ]
  },
  {
   "cell_type": "code",
   "execution_count": 1,
   "id": "216ec88b-7f8a-4aed-a0fd-41e59b9f026d",
   "metadata": {
    "tags": []
   },
   "outputs": [
    {
     "name": "stderr",
     "output_type": "stream",
     "text": [
      "Updating HTML index of packages in '.Library'\n",
      "\n",
      "Making 'packages.html' ...\n",
      " done\n",
      "\n",
      "also installing the dependency ‘viridis’\n",
      "\n",
      "\n",
      "Updating HTML index of packages in '.Library'\n",
      "\n",
      "Making 'packages.html' ...\n",
      " done\n",
      "\n",
      "Updating HTML index of packages in '.Library'\n",
      "\n",
      "Making 'packages.html' ...\n",
      " done\n",
      "\n",
      "── \u001b[1mAttaching packages\u001b[22m ─────────────────────────────────────── tidyverse 1.3.2 ──\n",
      "\u001b[32m✔\u001b[39m \u001b[34mggplot2\u001b[39m 3.4.2     \u001b[32m✔\u001b[39m \u001b[34mpurrr  \u001b[39m 1.0.1\n",
      "\u001b[32m✔\u001b[39m \u001b[34mtibble \u001b[39m 3.2.1     \u001b[32m✔\u001b[39m \u001b[34mdplyr  \u001b[39m 1.1.1\n",
      "\u001b[32m✔\u001b[39m \u001b[34mtidyr  \u001b[39m 1.3.0     \u001b[32m✔\u001b[39m \u001b[34mstringr\u001b[39m 1.5.0\n",
      "\u001b[32m✔\u001b[39m \u001b[34mreadr  \u001b[39m 2.1.3     \u001b[32m✔\u001b[39m \u001b[34mforcats\u001b[39m 0.5.2\n",
      "── \u001b[1mConflicts\u001b[22m ────────────────────────────────────────── tidyverse_conflicts() ──\n",
      "\u001b[31m✖\u001b[39m \u001b[34mdplyr\u001b[39m::\u001b[32mfilter()\u001b[39m masks \u001b[34mstats\u001b[39m::filter()\n",
      "\u001b[31m✖\u001b[39m \u001b[34mdplyr\u001b[39m::\u001b[32mlag()\u001b[39m    masks \u001b[34mstats\u001b[39m::lag()\n",
      "── \u001b[1mAttaching packages\u001b[22m ────────────────────────────────────── tidymodels 1.0.0 ──\n",
      "\n",
      "\u001b[32m✔\u001b[39m \u001b[34mbroom       \u001b[39m 1.0.2     \u001b[32m✔\u001b[39m \u001b[34mrsample     \u001b[39m 1.1.1\n",
      "\u001b[32m✔\u001b[39m \u001b[34mdials       \u001b[39m 1.1.0     \u001b[32m✔\u001b[39m \u001b[34mtune        \u001b[39m 1.0.1\n",
      "\u001b[32m✔\u001b[39m \u001b[34minfer       \u001b[39m 1.0.4     \u001b[32m✔\u001b[39m \u001b[34mworkflows   \u001b[39m 1.1.2\n",
      "\u001b[32m✔\u001b[39m \u001b[34mmodeldata   \u001b[39m 1.0.1     \u001b[32m✔\u001b[39m \u001b[34mworkflowsets\u001b[39m 1.0.0\n",
      "\u001b[32m✔\u001b[39m \u001b[34mparsnip     \u001b[39m 1.0.3     \u001b[32m✔\u001b[39m \u001b[34myardstick   \u001b[39m 1.1.0\n",
      "\u001b[32m✔\u001b[39m \u001b[34mrecipes     \u001b[39m 1.0.4     \n",
      "\n",
      "── \u001b[1mConflicts\u001b[22m ───────────────────────────────────────── tidymodels_conflicts() ──\n",
      "\u001b[31m✖\u001b[39m \u001b[34mscales\u001b[39m::\u001b[32mdiscard()\u001b[39m masks \u001b[34mpurrr\u001b[39m::discard()\n",
      "\u001b[31m✖\u001b[39m \u001b[34mdplyr\u001b[39m::\u001b[32mfilter()\u001b[39m   masks \u001b[34mstats\u001b[39m::filter()\n",
      "\u001b[31m✖\u001b[39m \u001b[34mrecipes\u001b[39m::\u001b[32mfixed()\u001b[39m  masks \u001b[34mstringr\u001b[39m::fixed()\n",
      "\u001b[31m✖\u001b[39m \u001b[34mdplyr\u001b[39m::\u001b[32mlag()\u001b[39m      masks \u001b[34mstats\u001b[39m::lag()\n",
      "\u001b[31m✖\u001b[39m \u001b[34myardstick\u001b[39m::\u001b[32mspec()\u001b[39m masks \u001b[34mreadr\u001b[39m::spec()\n",
      "\u001b[31m✖\u001b[39m \u001b[34mrecipes\u001b[39m::\u001b[32mstep()\u001b[39m   masks \u001b[34mstats\u001b[39m::step()\n",
      "\u001b[34m•\u001b[39m Use suppressPackageStartupMessages() to eliminate package startup messages\n",
      "\n",
      "corrplot 0.92 loaded\n",
      "\n",
      "\n",
      "Attaching package: ‘Hmisc’\n",
      "\n",
      "\n",
      "The following object is masked from ‘package:parsnip’:\n",
      "\n",
      "    translate\n",
      "\n",
      "\n",
      "The following objects are masked from ‘package:dplyr’:\n",
      "\n",
      "    src, summarize\n",
      "\n",
      "\n",
      "The following objects are masked from ‘package:base’:\n",
      "\n",
      "    format.pval, units\n",
      "\n",
      "\n",
      "\n",
      "Attaching package: ‘gridExtra’\n",
      "\n",
      "\n",
      "The following object is masked from ‘package:dplyr’:\n",
      "\n",
      "    combine\n",
      "\n",
      "\n"
     ]
    }
   ],
   "source": [
    "install.packages(\"corrplot\")\n",
    "install.packages(\"Hmisc\")\n",
    "install.packages(\"gridExtra\")\n",
    "library(tidyverse)\n",
    "library(tidymodels)\n",
    "library(corrplot)\n",
    "library(Hmisc)\n",
    "library(gridExtra)\n",
    "options(repr.matrix.max.rows = 15)\n",
    "options(repr.plot.width = 10, repr.plot.height = 8)\n",
    "set.seed(1234)"
   ]
  },
  {
   "cell_type": "code",
   "execution_count": 2,
   "id": "6df29350-f1e6-4cba-8915-2a99db220355",
   "metadata": {
    "tags": []
   },
   "outputs": [
    {
     "name": "stderr",
     "output_type": "stream",
     "text": [
      "\u001b[1mRows: \u001b[22m\u001b[34m100000\u001b[39m \u001b[1mColumns: \u001b[22m\u001b[34m9\u001b[39m\n",
      "\u001b[36m──\u001b[39m \u001b[1mColumn specification\u001b[22m \u001b[36m────────────────────────────────────────────────────────\u001b[39m\n",
      "\u001b[1mDelimiter:\u001b[22m \",\"\n",
      "\u001b[31mchr\u001b[39m (2): gender, smoking_history\n",
      "\u001b[32mdbl\u001b[39m (7): age, hypertension, heart_disease, bmi, HbA1c_level, blood_glucose_l...\n",
      "\n",
      "\u001b[36mℹ\u001b[39m Use `spec()` to retrieve the full column specification for this data.\n",
      "\u001b[36mℹ\u001b[39m Specify the column types or set `show_col_types = FALSE` to quiet this message.\n"
     ]
    }
   ],
   "source": [
    "diabetes <- read_csv(\"https://raw.githubusercontent.com/florencesanjaya/DSCI-100-2023w1-group-36/main/diabetes_prediction_dataset.csv\")"
   ]
  },
  {
   "cell_type": "code",
   "execution_count": 4,
   "id": "ad685a69-95b8-4730-8bce-85d64b3999ed",
   "metadata": {
    "tags": []
   },
   "outputs": [],
   "source": [
    "# Diabetes is rare among children under age 5 (Pregnancy, Birth and Baby, n.d.), so only people above 5 years old are considered.\n",
    "diabetes <- diabetes |>\n",
    "filter(age > 5)"
   ]
  },
  {
   "cell_type": "markdown",
   "id": "b939d14a-19cf-4bcf-bbc5-f7105d44f4cf",
   "metadata": {},
   "source": [
    "*(insert upsampling step here)*"
   ]
  },
  {
   "cell_type": "code",
   "execution_count": 20,
   "id": "e65f8754-8016-461a-9c33-a4fcbbddc5e9",
   "metadata": {},
   "outputs": [
    {
     "name": "stdout",
     "output_type": "stream",
     "text": [
      "Rows: 67,497\n",
      "Columns: 9\n",
      "$ gender              \u001b[3m\u001b[90m<chr>\u001b[39m\u001b[23m \"Female\", \"Female\", \"Male\", \"Female\", \"Female\", \"F…\n",
      "$ age                 \u001b[3m\u001b[90m<dbl>\u001b[39m\u001b[23m 80, 54, 28, 20, 44, 32, 53, 67, 78, 15, 42, 42, 40…\n",
      "$ hypertension        \u001b[3m\u001b[90m<fct>\u001b[39m\u001b[23m False, False, False, False, False, False, False, F…\n",
      "$ heart_disease       \u001b[3m\u001b[90m<fct>\u001b[39m\u001b[23m True, False, False, False, False, False, False, Fa…\n",
      "$ smoking_history     \u001b[3m\u001b[90m<chr>\u001b[39m\u001b[23m \"never\", \"No Info\", \"never\", \"never\", \"never\", \"ne…\n",
      "$ bmi                 \u001b[3m\u001b[90m<dbl>\u001b[39m\u001b[23m 25.19, 27.32, 27.32, 27.32, 19.31, 27.32, 27.32, 2…\n",
      "$ HbA1c_level         \u001b[3m\u001b[90m<dbl>\u001b[39m\u001b[23m 6.6, 6.6, 5.7, 6.6, 6.5, 5.0, 6.1, 5.8, 6.6, 6.1, …\n",
      "$ blood_glucose_level \u001b[3m\u001b[90m<dbl>\u001b[39m\u001b[23m 140, 80, 158, 85, 200, 100, 85, 200, 126, 200, 158…\n",
      "$ diabetes            \u001b[3m\u001b[90m<fct>\u001b[39m\u001b[23m False, False, False, False, True, False, False, Fa…\n"
     ]
    }
   ],
   "source": [
    "diabetes_split <- initial_split(diabetes, prop = 0.75, strata = diabetes)\n",
    "diabetes_training <- training(diabetes_split)\n",
    "diabetes_testing <- testing(diabetes_split)\n",
    "glimpse(diabetes_training)"
   ]
  },
  {
   "cell_type": "markdown",
   "id": "a2d05d75-a406-49a8-9c6d-bdb53ae8d5da",
   "metadata": {},
   "source": [
    "## Discussion"
   ]
  },
  {
   "cell_type": "markdown",
   "id": "1a8e53df-0ee6-447a-8b73-10213f52c905",
   "metadata": {},
   "source": [
    "*(insert summary of findings)*\n",
    "\n",
    "*(insert discussion of whether findings conform to expectations)*\n",
    "\n",
    "Utilising machine learning to comb through multitudes of patient data can accelerate crucial decision-making, especially in clinical settings where healthcare providers must consider diabetic potential in some patients’ treatments. We believe that our findings can provide a step closer to accomplishing this by confirming the correlational relationship between the 4 variables and diabetes.\n",
    "\n",
    "Future questions to consider:\n",
    "1. Can we differentiate between type 1 and type 2 diabetes with our predictors?\n",
    "2. Would a bigger patient dataset alter the accuracy of our predictors?"
   ]
  },
  {
   "cell_type": "markdown",
   "id": "36885c0a-2284-425f-b84a-0952a11c8180",
   "metadata": {},
   "source": [
    "## References"
   ]
  },
  {
   "cell_type": "markdown",
   "id": "1f6a2558-b331-4899-9a30-40bbbe0eb15e",
   "metadata": {},
   "source": [
    "**(currently using APA 7th ed.)**\n",
    "\n",
    "Mustafa, M. (2023). *Diabetes prediction dataset* [Data set]. Kaggle. https://www.kaggle.com/datasets/iammustafatz/diabetes-prediction-dataset\n",
    "\n",
    "Petrie, J. R., Guzik, T. J., & Touyz, R. M. (2018). Diabetes, Hypertension, and Cardiovascular Disease: Clinical Insights and Vascular Mechanisms. The Canadian journal of cardiology, 34(5), 575–584. https://doi.org/10.1016/j.cjca.2017.12.005\n",
    "\n",
    "Pregnancy, Birth and Baby. (n.d.). Diabetes in young children. https://www.pregnancybirthbaby.org.au/diabetes-in-young-children#:~:text=Diabetes%20is%20rare%20in%20children,diabetes%20and%20manage%20the%20condition\n",
    "\n",
    "Sherwani, S. I., Khan, H. A., Ekhzaimy, A., Masood, A., Sakharkar, M. K. (2016). Significance of HbA1c Test in Diagnosis and Prognosis of Diabetic Patients. *Biomarker Insights, 11*, 95-104. https://doi.org/10.4137%2FBMI.S38440\n",
    "\n",
    "Yan, Z., Cai, M., Han, X., Chen, Q., & Lu, H. (2023). The Interaction Between Age and Risk Factors for Diabetes and Prediabetes: A Community-Based Cross-Sectional Study. *Diabetes, metabolic syndrome and obesity : targets and therapy, 16*, 85–93. https://doi.org/10.2147/DMSO.S390857"
   ]
  }
 ],
 "metadata": {
  "kernelspec": {
   "display_name": "R",
   "language": "R",
   "name": "ir"
  },
  "language_info": {
   "codemirror_mode": "r",
   "file_extension": ".r",
   "mimetype": "text/x-r-source",
   "name": "R",
   "pygments_lexer": "r",
   "version": "4.2.2"
  }
 },
 "nbformat": 4,
 "nbformat_minor": 5
}
